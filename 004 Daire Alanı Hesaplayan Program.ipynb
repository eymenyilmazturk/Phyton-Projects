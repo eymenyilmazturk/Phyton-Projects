{
  "nbformat": 4,
  "nbformat_minor": 0,
  "metadata": {
    "colab": {
      "name": "Daire Alanı Hesaplayan Program.ipynb",
      "provenance": [],
      "authorship_tag": "ABX9TyPeGBumfOSWY7e3bL/UA8kp",
      "include_colab_link": true
    },
    "kernelspec": {
      "name": "python3",
      "display_name": "Python 3"
    },
    "language_info": {
      "name": "python"
    }
  },
  "cells": [
    {
      "cell_type": "markdown",
      "metadata": {
        "id": "view-in-github",
        "colab_type": "text"
      },
      "source": [
        "<a href=\"https://colab.research.google.com/github/eymenyilmazturk/Phyton-Projects/blob/main/004%20Daire%20Alan%C4%B1%20Hesaplayan%20Program.ipynb\" target=\"_parent\"><img src=\"https://colab.research.google.com/assets/colab-badge.svg\" alt=\"Open In Colab\"/></a>"
      ]
    },
    {
      "cell_type": "code",
      "execution_count": 4,
      "metadata": {
        "colab": {
          "base_uri": "https://localhost:8080/"
        },
        "id": "bSWl_9MZnmyq",
        "outputId": "382855d0-9670-44dc-b98f-292fd1fd715a"
      },
      "outputs": [
        {
          "output_type": "stream",
          "name": "stdout",
          "text": [
            "Dairenin Yarıçapını Giriniz : 2\n",
            "**************************************************\n",
            "Dairenin Yarıçapı : 2.0 \n",
            "Dairenin Alanı : 12.0 \n",
            "Dairenin Çevresi : 12.0\n"
          ]
        }
      ],
      "source": [
        "yarıcap = float(input('Dairenin Yarıçapını Giriniz : '))\n",
        "\n",
        "alan = 3 * (yarıcap ** 2)\n",
        "cevre = 2 * 3 * yarıcap\n",
        "\n",
        "print(50*\"*\")\n",
        "\n",
        "print(f'Dairenin Yarıçapı : {yarıcap} \\nDairenin Alanı : {alan} \\nDairenin Çevresi : {cevre}')\n",
        "\n",
        "\n",
        "\n",
        "\n",
        "\n"
      ]
    }
  ]
}