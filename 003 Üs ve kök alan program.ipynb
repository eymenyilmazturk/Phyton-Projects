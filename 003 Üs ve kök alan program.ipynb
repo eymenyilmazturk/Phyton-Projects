{
  "nbformat": 4,
  "nbformat_minor": 0,
  "metadata": {
    "colab": {
      "name": "Untitled11.ipynb",
      "provenance": [],
      "authorship_tag": "ABX9TyMm+aTOQS5Q0gsYfR65iczD",
      "include_colab_link": true
    },
    "kernelspec": {
      "name": "python3",
      "display_name": "Python 3"
    },
    "language_info": {
      "name": "python"
    }
  },
  "cells": [
    {
      "cell_type": "markdown",
      "metadata": {
        "id": "view-in-github",
        "colab_type": "text"
      },
      "source": [
        "<a href=\"https://colab.research.google.com/github/eymenyilmazturk/Phyton-Projects/blob/main/%C3%9Cs%20ve%20k%C3%B6k%20alan%20program.ipynb\" target=\"_parent\"><img src=\"https://colab.research.google.com/assets/colab-badge.svg\" alt=\"Open In Colab\"/></a>"
      ]
    },
    {
      "cell_type": "code",
      "execution_count": null,
      "metadata": {
        "colab": {
          "base_uri": "https://localhost:8080/"
        },
        "id": "ir8nV7_Ujr5P",
        "outputId": "ea4ad3aa-96f9-4f22-b636-ce0b4deb037c"
      },
      "outputs": [
        {
          "output_type": "stream",
          "name": "stdout",
          "text": [
            "Birinci Sayıyı Giriniz : 2\n",
            "İkinci Sayıyı Giriniz : 3\n",
            "**************************************************\n",
            "Girdiğin Sayılar : 2.0 , 3.0. \n",
            "Üs Alma : 6.0. \n",
            "Kök Alma 0.6666666666666666\n"
          ]
        }
      ],
      "source": [
        "sayi1 = float(input('Birinci Sayıyı Giriniz : '))\n",
        "sayi2 = float(input('İkinci Sayıyı Giriniz : '))\n",
        "\n",
        "us = sayi1*sayi2\n",
        "kok = sayi1/sayi2\n",
        "\n",
        "print(50*\"*\")\n",
        "\n",
        "print(f'Girdiğin Sayılar : {sayi1} , {sayi2}. \\nÜs Alma : {us}. \\nKök Alma {kok}' )"
      ]
    }
  ]
}
