{
  "nbformat": 4,
  "nbformat_minor": 0,
  "metadata": {
    "colab": {
      "name": "#0001# 7 işlemli hesap makinesi.ipynb",
      "provenance": [],
      "authorship_tag": "ABX9TyPFD25afTrXvauKeSatdIpD",
      "include_colab_link": true
    },
    "kernelspec": {
      "name": "python3",
      "display_name": "Python 3"
    },
    "language_info": {
      "name": "python"
    }
  },
  "cells": [
    {
      "cell_type": "markdown",
      "metadata": {
        "id": "view-in-github",
        "colab_type": "text"
      },
      "source": [
        "<a href=\"https://colab.research.google.com/github/eymenyilmazturk/Phyton-Projects/blob/main/_0001_7_i%C5%9Flemli_hesap_makinesi.ipynb\" target=\"_parent\"><img src=\"https://colab.research.google.com/assets/colab-badge.svg\" alt=\"Open In Colab\"/></a>"
      ]
    },
    {
      "cell_type": "code",
      "source": [
        "#ÖDEV 0001"
      ],
      "metadata": {
        "id": "cqYUL6q04xLF"
      },
      "execution_count": null,
      "outputs": []
    },
    {
      "cell_type": "code",
      "source": [
        "#Kullanıcıdan iki sayı alıp 7 tane işlem yapan basit program..."
      ],
      "metadata": {
        "id": "yzJNdRZK41Sg"
      },
      "execution_count": 2,
      "outputs": []
    },
    {
      "cell_type": "code",
      "source": [
        "a = float(input('Birinci sayıyı giriniz: '))\n",
        "b = float(input('İkinci sayıyı giriniz: '))\n",
        "\n",
        "# +\n",
        "toplam= a+b\n",
        "\n",
        "# -\n",
        "kalan= a-b\n",
        "\n",
        "# *\n",
        "carpım= a*b\n",
        "\n",
        "# /\n",
        "bolum= a/b\n",
        "\n",
        "# %\n",
        "sonuc= a%b \n",
        "\n",
        "# //\n",
        "bolumundenkalan = a//b\n",
        "\n",
        "# **\n",
        "ussu= a**b\n",
        "\n",
        "print(50*\"*\")\n",
        "print('Birinci sayı: ',a)\n",
        "print('İkinci sayı: ',b)\n",
        "print(50*\"*\")\n",
        "print('Toplama: ',toplam)\n",
        "print('Çıkarma: ',kalan)\n",
        "print('Bölme: ',bolum)\n",
        "print('Mod alma: ',sonuc)\n",
        "print('Tam bölme: ',bolumundenkalan)\n",
        "print('Üs alma: ', ussu)"
      ],
      "metadata": {
        "id": "Yahtx6Ce4-QI"
      },
      "execution_count": null,
      "outputs": []
    }
  ]
}