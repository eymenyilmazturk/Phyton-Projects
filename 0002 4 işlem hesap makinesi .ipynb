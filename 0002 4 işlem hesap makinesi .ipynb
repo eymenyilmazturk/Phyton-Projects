{
  "nbformat": 4,
  "nbformat_minor": 0,
  "metadata": {
    "colab": {
      "name": "4_işlem_hesap_makinesi.ipynb",
      "provenance": [],
      "authorship_tag": "ABX9TyO7ZZUF/FbTdk5mwSBBsqz9",
      "include_colab_link": true
    },
    "kernelspec": {
      "name": "python3",
      "display_name": "Python 3"
    },
    "language_info": {
      "name": "python"
    }
  },
  "cells": [
    {
      "cell_type": "markdown",
      "metadata": {
        "id": "view-in-github",
        "colab_type": "text"
      },
      "source": [
        "<a href=\"https://colab.research.google.com/github/eymenyilmazturk/Phyton-Projects/blob/main/0002%204%20i%C5%9Flem%20hesap%20makinesi%20.ipynb\" target=\"_parent\"><img src=\"https://colab.research.google.com/assets/colab-badge.svg\" alt=\"Open In Colab\"/></a>"
      ]
    },
    {
      "cell_type": "code",
      "execution_count": null,
      "metadata": {
        "id": "FEGZCNcCv8ck"
      },
      "outputs": [],
      "source": [
        "print('TOPLAMA')\n",
        "print(50*'★')\n",
        "a = float(input('Birinci sayıyı giriniz : '))\n",
        "b = float(input('İkinci sayıyı giriniz : '))\n",
        "toplama = a+b\n",
        "print(50*'★')\n",
        "print('Sonuç : ',toplama)\n",
        "print(50*'★')\n",
        "print(200*' ')\n",
        "\n",
        "print('ÇIKARMA')\n",
        "print(50*'★')\n",
        "c = float(input('Birinci sayıyı giriniz : '))\n",
        "d = float(input('Birinci sayıyı giriniz : '))\n",
        "çıkarma = c-d\n",
        "print(50*'★')\n",
        "print('Sonuç',çıkarma)\n",
        "print(50*'★')\n",
        "print(200*' ')\n",
        "\n",
        "print('ÇARPMA')\n",
        "print(50*'★')\n",
        "e = float(input('Birinci sayıyı giriniz : '))\n",
        "f = float(input('Birinci sayıyı giriniz : '))\n",
        "çarpma = e*f\n",
        "print(50*'★')\n",
        "print('Sonuç',çarpma)\n",
        "print(50*'★')\n",
        "print(200*' ')\n",
        "\n",
        "print('BÖLME')\n",
        "print(50*'★')\n",
        "g = float(input('Birinci sayıyı giriniz : '))\n",
        "h = float(input('Birinci sayıyı giriniz : '))\n",
        "bölme = g/h\n",
        "print(50*'★')\n",
        "print('Sonuç',bölme)\n",
        "print(50*'★')\n",
        "print(200*' ')\n",
        "\n",
        "\n",
        "\n",
        "\n"
      ]
    }
  ]
}